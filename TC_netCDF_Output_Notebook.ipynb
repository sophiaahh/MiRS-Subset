{
 "cells": [
  {
   "cell_type": "markdown",
   "id": "341a8e6d-b892-4898-8529-95e2d9e6dc14",
   "metadata": {},
   "source": [
    "# Tropical Cyclone MIRS and IBTracks Data"
   ]
  },
  {
   "cell_type": "markdown",
   "id": "ceaea22b-9b33-4512-b8fb-17857d38195e",
   "metadata": {},
   "source": [
    "### Import Libraries"
   ]
  },
  {
   "cell_type": "code",
   "execution_count": 1,
   "id": "8d8554af-f260-4d1e-88ad-f74a971d6ea6",
   "metadata": {},
   "outputs": [],
   "source": [
    "import pandas as pd\n",
    "import pytz\n",
    "import os\n",
    "from shapely import wkt\n",
    "from shapely.geometry import Point\n",
    "from shapely.geometry.polygon import Polygon\n",
    "import xarray as xr"
   ]
  },
  {
   "cell_type": "markdown",
   "id": "94a25abf-dc6c-4a2f-bee6-c8548b6a68ca",
   "metadata": {},
   "source": [
    "### Define Functions"
   ]
  },
  {
   "cell_type": "code",
   "execution_count": 4,
   "id": "2bffa0ea-0da1-4ccc-a5b4-210c91011a22",
   "metadata": {},
   "outputs": [],
   "source": [
    "def LonTo360(dlon):\n",
    "    # Convert longitudes to 0-360 deg\n",
    "    dlon = ((360 + (dlon % 360)) % 360)\n",
    "    return dlon"
   ]
  },
  {
   "cell_type": "code",
   "execution_count": 5,
   "id": "b058d8d9-b42c-42ff-ad2d-792c7160615d",
   "metadata": {},
   "outputs": [],
   "source": [
    "def get_by_name(name: str, year: int, ibtrack_file: str):\n",
    "    data = pd.read_csv(ibtrack_file, low_memory=False)  \n",
    "    data = data.iloc[1: , :] # remove the row of units\n",
    "    year_date_of = pd.to_datetime(f'{year}')\n",
    "    year_date_after = pd.to_datetime(f'{year+1}')\n",
    "    data = data[data['NAME'] == name]\n",
    "    data['ISO_TIME'] = pd.to_datetime(data['ISO_TIME'])\n",
    "    mask = (data['ISO_TIME'] >= year_date_of) & (data['ISO_TIME'] < year_date_after)\n",
    "    data = data[mask]\n",
    "    extract_vars = ['NAME', 'ISO_TIME', 'WMO_WIND', 'WMO_PRES', 'LAT', 'LON', \n",
    "                    'USA_R34_NE', 'USA_R34_NW', 'USA_R34_SE', 'USA_R34_SW', 'USA_R50_NE', 'USA_R50_NW', 'USA_R50_SE', 'USA_R50_SW', 'USA_R64_NE', 'USA_R64_NW', 'USA_R64_SE', 'USA_R64_SW', \n",
    "                   'REUNION_R34_NE', 'REUNION_R34_NW', 'REUNION_R34_SE', 'REUNION_R34_SW', 'REUNION_R50_NE', 'REUNION_R50_NW', 'REUNION_R50_SE', 'REUNION_R50_SW', 'REUNION_R64_NE', 'REUNION_R64_NW', 'REUNION_R64_SE', 'REUNION_R64_SW',\n",
    "                   'BOM_R34_NE', 'BOM_R34_SE', 'BOM_R34_NW', 'BOM_R34_SW', 'BOM_R50_NE', 'BOM_R50_SE', 'BOM_R50_NW', 'BOM_R50_SW', 'BOM_R64_NE', 'BOM_R64_SE', 'BOM_R64_NW', 'BOM_R64_SW']\n",
    "    data = data[extract_vars]\n",
    "    if year != 2021: \n",
    "        data = data[data['WMO_WIND'] != ' ']\n",
    "        data = data[data['WMO_PRES'] != ' ']\n",
    "    data['LON_180'] = data['LON']\n",
    "    data['LON']=data['LON'].astype(float).apply(LonTo360)\n",
    "    return data"
   ]
  },
  {
   "cell_type": "markdown",
   "id": "224755d8-9eef-4890-b6e5-3bd8b2a1ee53",
   "metadata": {},
   "source": [
    "### User Settings"
   ]
  },
  {
   "cell_type": "code",
   "execution_count": 7,
   "id": "d27dc65b-1676-43c6-a9af-7ed69d3c7bb2",
   "metadata": {},
   "outputs": [],
   "source": [
    "### user settings\n",
    "storm_name = \"IDA\"\n",
    "storm_year = 2021\n",
    "output_filename = f\"{storm_name}_{storm_year}_all_data.nc\"\n",
    "dir_path = \"nc/n20_atms/2021-08-29/\" # '/Users/sophiahu/Documents/MIRS_DATA/' # \"nc/n20_atms/2021-08-29/\"\n",
    "ibt_file = 'IBTrACS.ALL.v04r00.nc'\n",
    "ibt_file_csv = 'ibtracs.ALL.list.v04r00.csv'"
   ]
  },
  {
   "cell_type": "code",
   "execution_count": 8,
   "id": "f366bc71-e63b-4753-a5bb-58f5ac51db7d",
   "metadata": {},
   "outputs": [],
   "source": [
    "snd_vars_to_keep = [\"Player\", \"Plevel\", \"PTemp\", \"PVapor\", \"PClw\", \"PRain\", \"PGraupel\"] # unique from IMG\n",
    "\n",
    "img_vars_to_remove = [\"Atm_type\", \"ChanSel\", \"SWP\", \"IWP\", \"Snow\",\n",
    "                      \"SWE\", \"SnowGS\", \"SIce\", \"SIce_MY\", \"SIce_FY\", \"SFR\",\n",
    "                     \"CldTop\", \"CldBase\", \"CldThick\", \"PrecipType\", \"RFlag\", \"SurfM\",\n",
    "                     \"WindSp\", \"WindDir\", \"WindU\", \"WindV\", \"Prob_SF\", \"quality_information\"]"
   ]
  },
  {
   "cell_type": "markdown",
   "id": "333dffd0-e29e-46d9-b03e-770c7d882965",
   "metadata": {},
   "source": [
    "### Main Code"
   ]
  },
  {
   "cell_type": "code",
   "execution_count": 9,
   "id": "eb606854-f507-4337-b154-7960c412ec07",
   "metadata": {},
   "outputs": [],
   "source": [
    "mirs_files = os.listdir(dir_path)\n",
    "result = get_by_name(storm_name, storm_year, ibt_file_csv)\n",
    "npts = result.shape[0] # read result DataFrame for storm name and year\n",
    "mirs_contains_tc = [] # list of MIRS files that contain TC "
   ]
  },
  {
   "cell_type": "markdown",
   "id": "d2f2dc2e-77e0-45d3-b212-eda49549c7eb",
   "metadata": {},
   "source": [
    "### Loop through all MIRS files to check if TC is in time coverage and polygon\n",
    "* **Note**: if you want to loop through all TC lifecycle, uncomment the first line\n",
    "    * The second line (42,43) is a test line - comment it out if you want to loop through full TC lifecycle"
   ]
  },
  {
   "cell_type": "code",
   "execution_count": null,
   "id": "e13fa3c9-591c-400e-8659-8d3b5b6a24a1",
   "metadata": {},
   "outputs": [],
   "source": [
    "# for ipt in range(npts):    # turn this on in production; (loop through all points of storm's lifecyle)\n",
    "for ipt in [42,43]:         # turn this off in production; testing only (loop through a few points of storm's lifecycle - here 42, 43 are for 08/29/21 for IDA\n",
    "    \n",
    "    t_val = result['ISO_TIME'].iloc[ipt] \n",
    "    lat_val = result['LAT'].iloc[ipt] \n",
    "    lon_val = result['LON_180'].iloc[ipt] # LON is from 0-360 but the satellite data uses -180 to 180!\n",
    "\n",
    "    print(f\"Working on TC time: {t_val}\")\n",
    "\n",
    "    t_val_12ahead = t_val + pd.to_timedelta(12, unit='h')\n",
    "    t_val_12behind = t_val - pd.to_timedelta(12, unit='h')\n",
    "\n",
    "    t_val_12ahead_utc = pytz.utc.localize(t_val_12ahead)\n",
    "    t_val_12behind_utc = pytz.utc.localize(t_val_12behind)\n",
    "\n",
    "    print(f\"Checking files within date range: {t_val_12behind} and {t_val_12ahead}\")\n",
    "        \n",
    "    for file in mirs_files: \n",
    "        ds = xr.open_dataset(dir_path + file)\n",
    "        time_coverage_start = pd.to_datetime(ds.attrs['time_coverage_start'])\n",
    "        time_coverage_end = pd.to_datetime(ds.attrs['time_coverage_end'])\n",
    "\n",
    "        if (t_val_12behind_utc <= time_coverage_start) and (t_val_12ahead_utc >= time_coverage_end):\n",
    "            polygon= ds.attrs['geospatial_bounds']\n",
    "            polygon_val = wkt.loads(polygon)\n",
    "            point = Point(float(lon_val), float(lat_val))\n",
    "            \n",
    "            if point.within(polygon_val): \n",
    "                if ds.attrs[\"geospatial_first_scanline_first_fov_lon\"] < 0:  # keep storms East of the dateline for IDA; may need to alter for other storms (to remove satellite granulars that circle the globe)\n",
    "                    mirs_contains_tc.append(file)"
   ]
  },
  {
   "cell_type": "markdown",
   "id": "3d2d74f4-1c63-4552-bbdd-0e9e7e734076",
   "metadata": {},
   "source": [
    "### Concatenate the MIRS files"
   ]
  },
  {
   "cell_type": "code",
   "execution_count": null,
   "id": "e02e11ca-8148-4564-96c3-4a9c7750f16a",
   "metadata": {},
   "outputs": [],
   "source": [
    "img_files_storm_final = [i for i in mirs_contains_tc if i.startswith('NPR-MIRS-IMG')]\n",
    "snd_files_storm_final = [i for i in mirs_contains_tc if i.startswith('NPR-MIRS-SND')]              \n",
    "                    \n",
    "img_files_storm_final_one_list = [item for sublist in img_files_storm_final for item in sublist]\n",
    "ds_img_list = []\n",
    "\n",
    "for file in img_files_storm_final_one_list:\n",
    "    ds_mirs = xr.open_dataset(dir_path + file)\n",
    "    ds_img_list.append(ds_mirs)\n",
    "\n",
    "ds_img_merged = xr.concat(ds_img_list, dim='Scanline')\n",
    "\n",
    "snd_files_storm_final_one_list = [item for sublist in snd_files_storm_final for item in sublist]\n",
    "ds_snd_list = []\n",
    "\n",
    "for file in snd_files_storm_final_one_list:\n",
    "    ds_mirs = xr.open_dataset(dir_path + file)\n",
    "    ds_snd_list.append(ds_mirs)\n",
    "\n",
    "ds_snd_merged = xr.concat(ds_snd_list, dim='Scanline')\n"
   ]
  },
  {
   "cell_type": "markdown",
   "id": "efc86669-3921-4af3-80ee-90bfec040d57",
   "metadata": {},
   "source": [
    "### Keep certain SND variables and remove certain IMG variables"
   ]
  },
  {
   "cell_type": "code",
   "execution_count": null,
   "id": "61d496df-47d3-4644-9537-b1e5a15c8d11",
   "metadata": {},
   "outputs": [],
   "source": [
    "ds_snd_merged_keep_vars = ds_snd_merged[snd_vars_to_keep]\n",
    "ds_img_merged_keep_vars = ds_img_merged.drop(img_vars_to_remove)"
   ]
  },
  {
   "cell_type": "markdown",
   "id": "511b8f70-beca-4397-83dc-715b10da0f5d",
   "metadata": {},
   "source": [
    "### Read the IBtracks data for the storm"
   ]
  },
  {
   "cell_type": "code",
   "execution_count": null,
   "id": "32bfb860-f4ff-49b2-aaac-0d74b082353f",
   "metadata": {},
   "outputs": [],
   "source": [
    "ds_ibt = xr.open_dataset(ibt_file)\n",
    "storm_name_bytes = bytes(storm_name, 'UTF-8')\n",
    "ds_storm_all = ds_ibt.where(ds_ibt.name==storm_name_bytes, drop=True)\n",
    "ds_storm = ds_storm_all.where(ds_storm_all.season==float(storm_year), drop=True)"
   ]
  },
  {
   "cell_type": "markdown",
   "id": "6388434c-fc29-4af0-8549-d22bf9999fd7",
   "metadata": {},
   "source": [
    "### Merge the IBtracks and MIRS data into one file"
   ]
  },
  {
   "cell_type": "code",
   "execution_count": null,
   "id": "33866f8a-67e0-4281-b915-20cbd38bbe7f",
   "metadata": {},
   "outputs": [],
   "source": [
    "ds_merged_all = xr.merge([ds_img_merged_keep_vars, ds_snd_merged_keep_vars, ds_storm])\n",
    "\n",
    "# Add attributes\n",
    "ds_merged_all.attrs[\"TC_name\"] = storm_name\n",
    "ds_merged_all.attrs[\"TC_time_start\"] = bytes.decode( ds_storm[\"iso_time\"][:,0].item() )\n",
    "# ds_merged_all.attrs[\"TC_time_end\"] =  bytes.decode( ds_storm[\"iso_time\"][:,-1].item() ) # len_iso_time = len(i)\n",
    "ds_merged_all.attrs[\"TC_minimum_lat\"] = round(float(ds_storm[\"lat\"].min()),2)\n",
    "ds_merged_all.attrs[\"TC_minimum_lon\"] = round(float(ds_storm[\"lon\"].min()),2)\n",
    "ds_merged_all.attrs[\"TC_maximum_lat\"] = round(float(ds_storm[\"lat\"].max()),2)\n",
    "ds_merged_all.attrs[\"TC_maximum_lon\"] = round(float(ds_storm[\"lon\"].max()),2)\n",
    "\n",
    "ds_merged_all.to_netcdf(output_filename)"
   ]
  }
 ],
 "metadata": {
  "kernelspec": {
   "display_name": "Python 3 (ipykernel)",
   "language": "python",
   "name": "python3"
  },
  "language_info": {
   "codemirror_mode": {
    "name": "ipython",
    "version": 3
   },
   "file_extension": ".py",
   "mimetype": "text/x-python",
   "name": "python",
   "nbconvert_exporter": "python",
   "pygments_lexer": "ipython3",
   "version": "3.9.6"
  }
 },
 "nbformat": 4,
 "nbformat_minor": 5
}
